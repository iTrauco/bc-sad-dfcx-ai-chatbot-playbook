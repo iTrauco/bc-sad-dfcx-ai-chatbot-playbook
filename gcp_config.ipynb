{
 "cells": [
  {
   "cell_type": "code",
   "execution_count": 1,
   "id": "93df211d-3dd8-48e7-95b1-ae803db1d01f",
   "metadata": {},
   "outputs": [],
   "source": [
    "%%capture\n",
    "!pip3 install google-auth google-cloud-dialogflow-cx\n"
   ]
  },
  {
   "cell_type": "code",
   "execution_count": 6,
   "id": "13035735-3911-4fb4-b60c-bff8b6c1eaee",
   "metadata": {},
   "outputs": [],
   "source": [
    "# data manipulation modules\n",
    "import pandas as pd\n",
    "import numpy as np\n",
    "\n",
    "# general python modules\n",
    "import json\n",
    "import csv\n",
    "import io \n",
    "import os\n",
    "\n",
    "# g-sheets connections\n",
    "import gspread\n",
    "from oauth2client.service_account import ServiceAccountCredentials\n",
    "from df2gspread import df2gspread as d2g"
   ]
  },
  {
   "cell_type": "markdown",
   "id": "cafca4ef-174f-425b-803c-95cf90468660",
   "metadata": {},
   "source": [
    "## gcp projects"
   ]
  },
  {
   "cell_type": "code",
   "execution_count": 7,
   "id": "4cacb00b-e7a6-4d15-b299-2d62e7603ac6",
   "metadata": {},
   "outputs": [],
   "source": [
    "!gcloud projects list > projects.csv\n",
    "\n"
   ]
  },
  {
   "cell_type": "code",
   "execution_count": null,
   "id": "26794fb6-7b5a-4842-b1be-fcdd87531897",
   "metadata": {},
   "outputs": [],
   "source": []
  },
  {
   "cell_type": "code",
   "execution_count": null,
   "id": "7c4ce826-936f-476a-9fe8-4554c55be956",
   "metadata": {},
   "outputs": [],
   "source": []
  }
 ],
 "metadata": {
  "kernelspec": {
   "display_name": "Python 3 (ipykernel)",
   "language": "python",
   "name": "python3"
  },
  "language_info": {
   "codemirror_mode": {
    "name": "ipython",
    "version": 3
   },
   "file_extension": ".py",
   "mimetype": "text/x-python",
   "name": "python",
   "nbconvert_exporter": "python",
   "pygments_lexer": "ipython3",
   "version": "3.11.6"
  }
 },
 "nbformat": 4,
 "nbformat_minor": 5
}
